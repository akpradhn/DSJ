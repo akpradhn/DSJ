{
 "cells": [
  {
   "cell_type": "markdown",
   "id": "5060e970-cbb9-4fda-987e-7e08e514695a",
   "metadata": {},
   "source": [
    "## Recursion with Arrays "
   ]
  },
  {
   "cell_type": "markdown",
   "id": "21f08885-edc4-4e54-8d9d-cb2e3e401b40",
   "metadata": {},
   "source": [
    "Check if a given list/array is sorted  or not using recursive"
   ]
  },
  {
   "cell_type": "code",
   "execution_count": 3,
   "id": "545b417a-5e1d-4dad-bbb7-c4a618e43c7c",
   "metadata": {},
   "outputs": [],
   "source": [
    "def checkSortedArrrayWithRecursive(l):\n",
    "\n",
    "    if len(l) == 0 or len(l)==1:\n",
    "        return True\n",
    "    \n",
    "    restSortedArray = checkSortedArrrayWithRecursive(l[1:])\n",
    "\n",
    "    if (restSortedArray == False):\n",
    "        return False\n",
    "    if (l[0] < l[1]):\n",
    "        return True\n",
    "\n",
    "    else:\n",
    "        return False\n",
    "checkSortedArrrayWithRecursive([5,5])        \n",
    "    "
   ]
  },
  {
   "cell_type": "code",
   "execution_count": 6,
   "id": "db92355b-d8e6-400b-95a5-2c8e332cc1e0",
   "metadata": {},
   "outputs": [
    {
     "data": {
      "text/plain": [
       "False"
      ]
     },
     "execution_count": 6,
     "metadata": {},
     "output_type": "execute_result"
    }
   ],
   "source": [
    "checkSortedArrrayWithRecursive([5,5])"
   ]
  },
  {
   "cell_type": "code",
   "execution_count": 9,
   "id": "6cf01a79-7480-47ae-ac05-9c5f23752382",
   "metadata": {},
   "outputs": [
    {
     "data": {
      "text/plain": [
       "False"
      ]
     },
     "execution_count": 9,
     "metadata": {},
     "output_type": "execute_result"
    }
   ],
   "source": [
    "def checkSortedArrrayWithRecursiveBetter(l):\n",
    "\n",
    "    if len(l) == 0 or len(l)==1:\n",
    "        return True\n",
    "\n",
    "    if (l[0] > l[1]):\n",
    "        return False\n",
    "    else:\n",
    "        return checkSortedArrrayWithRecursiveBetter(l[1:])\n",
    "\n",
    "checkSortedArrrayWithRecursiveBetter([10,2,5])        \n",
    "    "
   ]
  },
  {
   "cell_type": "code",
   "execution_count": null,
   "id": "06b1f14b-8d5a-463b-8a82-d47685e52599",
   "metadata": {},
   "outputs": [],
   "source": []
  }
 ],
 "metadata": {
  "kernelspec": {
   "display_name": "Python 3 (ipykernel)",
   "language": "python",
   "name": "python3"
  },
  "language_info": {
   "codemirror_mode": {
    "name": "ipython",
    "version": 3
   },
   "file_extension": ".py",
   "mimetype": "text/x-python",
   "name": "python",
   "nbconvert_exporter": "python",
   "pygments_lexer": "ipython3",
   "version": "3.9.6"
  }
 },
 "nbformat": 4,
 "nbformat_minor": 5
}
